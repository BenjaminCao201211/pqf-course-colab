{
 "cells": [
  {
   "cell_type": "markdown",
   "metadata": {},
   "source": [
    "# About Python\n",
    "\n",
    "## Overview\n",
    "\n",
    "In this lecture we will\n",
    "\n",
    "* outline what Python is\n",
    "* showcase some of its abilities\n",
    "* compare it to some other languages.\n",
    "\n",
    "The only objective for this lecture is to give you some feel of what Python is, and what it can do.\n",
    "\n",
    "## What's Python?\n",
    "\n",
    "[Python](https://www.python.org) is a general-purpose programming language. Python is free and open source, with development coordinated through the [Python Software Foundation](https://www.python.org/psf/).\n",
    "\n",
    "Python has experienced rapid adoption in the last decade and is now one of the most popular programming languages.\n",
    "\n",
    "### Common Uses\n",
    "\n",
    "Python is a general-purpose language used in almost all application domains including finance. It is also [replacing familiar tools like Excel](https://news.efinancialcareers.com/us-en/3002556/python-replaced-excel-banking) in the fields of finance and banking.\n",
    "\n",
    "Python is very beginner-friendly and is often used to [teach computer science and programming](http://cacm.acm.org/blogs/blog-cacm/176450-python-is-now-the-most-popular-introductory-teaching-language-at-top-us-universities/fulltext).\n",
    "\n",
    "\n",
    "### Features\n",
    "\n",
    "Python is a [high-level language](https://en.wikipedia.org/wiki/High-level_programming_language) suitable for rapid development.\n",
    "\n",
    "It has a relatively small core language supported by many libraries.\n",
    "\n",
    "Other features of Python:\n",
    "\n",
    "* multiple programming styles are supported (procedural, object-oriented, functional, etc.)\n",
    "* it is interpreted rather than compiled.\n",
    "\n",
    "### Syntax and Design\n",
    "\n",
    "One nice feature of Python is its elegant syntax. This is highly beneficial because it makes it easy to read. learn and remember.\n",
    "\n",
    "Features like iterators, generators, decorators and list comprehensions make Python highly expressive, allowing you to get more done with less code.\n",
    "\n",
    "[Namespaces](https://en.wikipedia.org/wiki/Namespace) improve productivity by cutting down on bugs and syntax errors.\n",
    "\n",
    "## Scientific Programming\n",
    "\n",
    "Python has become one of the core languages of scientific computing.\n",
    "\n",
    "It's either the dominant player or a major player in\n",
    "\n",
    "* [machine learning and data science](http://scikit-learn.org/stable/)\n",
    "* [astronomy](http://www.astropy.org/)\n",
    "* [artificial intelligence](https://wiki.python.org/moin/PythonForArtificialIntelligence)\n",
    "* [chemistry](http://chemlab.github.io/chemlab/)\n",
    "* [computational biology](http://biopython.org/wiki/Main_Page)\n",
    "* [meteorology](https://pypi.org/project/meteorology/)\n",
    "\n",
    "This section briefly showcases some examples of Python for scientific programming.\n",
    "\n",
    "* All of these topics will be covered in detail later on.\n",
    "\n",
    "### Numerical Programming\n",
    "\n",
    "Fundamental matrix and array processing capabilities are provided by the excellent [NumPy](http://www.numpy.org/) library.\n",
    "\n",
    "NumPy provides the basic array data type plus some simple processing operations.\n",
    "\n",
    "For example, let's build some arrays"
   ]
  },
  {
   "cell_type": "code",
   "execution_count": 1,
   "metadata": {},
   "outputs": [
    {
     "data": {
      "text/plain": [
       "9.853229343548264e-16"
      ]
     },
     "execution_count": 1,
     "metadata": {},
     "output_type": "execute_result"
    }
   ],
   "source": [
    "import numpy as np                     # Load the library\n",
    "\n",
    "a = np.linspace(-np.pi, np.pi, 100)    # Create even grid from -π to π\n",
    "b = np.cos(a)                          # Apply cosine to each element of a\n",
    "c = np.sin(a)                          # Apply sin to each element of a\n",
    "np.dot(b, c)"
   ]
  },
  {
   "cell_type": "markdown",
   "metadata": {},
   "source": [
    "The number you see here might vary slightly but it's essentially zero.\n",
    "\n",
    "The [SciPy](http://www.scipy.org) library is built on top of NumPy and provides additional functionality.\n",
    "\n",
    "For example, let's calculate $\\int_{-2}^2 \\phi(z) dz$ where $\\phi$ is the standard normal density."
   ]
  },
  {
   "cell_type": "code",
   "execution_count": 2,
   "metadata": {},
   "outputs": [
    {
     "data": {
      "text/plain": [
       "0.9544997361036417"
      ]
     },
     "execution_count": 2,
     "metadata": {},
     "output_type": "execute_result"
    }
   ],
   "source": [
    "from scipy.stats import norm\n",
    "from scipy.integrate import quad\n",
    "\n",
    "ϕ = norm()\n",
    "value, error = quad(ϕ.pdf, -2, 2)  # Integrate using Gaussian quadrature\n",
    "value"
   ]
  },
  {
   "cell_type": "markdown",
   "metadata": {},
   "source": [
    "SciPy includes many of the standard routines used in\n",
    "\n",
    "* [linear algebra](http://docs.scipy.org/doc/scipy/reference/linalg.html)\n",
    "* [integration](http://docs.scipy.org/doc/scipy/reference/integrate.html)\n",
    "* [interpolation](http://docs.scipy.org/doc/scipy/reference/interpolate.html)\n",
    "* [optimization](http://docs.scipy.org/doc/scipy/reference/optimize.html)\n",
    "* [distributions and random number generation](http://docs.scipy.org/doc/scipy/reference/stats.html)\n",
    "* [signal processing](http://docs.scipy.org/doc/scipy/reference/signal.html)\n",
    "\n",
    "See them all [here](http://docs.scipy.org/doc/scipy/reference/index.html).\n",
    "\n",
    "### Graphics\n",
    "\n",
    "The most popular and comprehensive Python library for creating figures and graphs is [Matplotlib](http://matplotlib.org/), with functionality including\n",
    "\n",
    "* plots, histograms, contour images, 3D graphs, bar charts etc.\n",
    "* output in many formats (PDF, PNG, EPS, etc.)\n",
    "* LaTeX integration\n",
    "\n",
    "![Example 2D plot with embedded LaTeX annotations](../img/section_specific/about_python/qs.png)\n",
    ":width:`400px`\n",
    "\n",
    "![Example contour plot](../img/section_specific/about_python/bn_density1.png)\n",
    ":width:`400px`\n",
    "\n",
    "![Example 3D plot](../img/section_specific/about_python/career_vf.png)\n",
    ":width:`400px`\n",
    "\n",
    "More examples can be found in the [Matplotlib thumbnail gallery](https://matplotlib.org/gallery.html).\n",
    "\n",
    "Other graphics libraries include:\n",
    "* [Seaborn](https://seaborn.pydata.org/) --- Statistical data visualization\n",
    "* [Plotly](https://plot.ly/python/)\n",
    "* [Bokeh](https://bokeh.pydata.org/en/latest/)\n",
    "\n",
    "### Symbolic Algebra\n",
    "\n",
    "It's useful to be able to manipulate symbolic expressions, as in Mathematica or Maple.\n",
    "\n",
    "The [SymPy](http://www.sympy.org/) library provides this functionality from within the Python shell."
   ]
  },
  {
   "cell_type": "code",
   "execution_count": 3,
   "metadata": {},
   "outputs": [
    {
     "data": {
      "text/latex": [
       "$\\displaystyle 3 x + y$"
      ],
      "text/plain": [
       "3*x + y"
      ]
     },
     "execution_count": 3,
     "metadata": {},
     "output_type": "execute_result"
    }
   ],
   "source": [
    "from sympy import Symbol\n",
    "\n",
    "x, y = Symbol('x'), Symbol('y')  # Treat 'x' and 'y' as algebraic symbols\n",
    "x + x + x + y"
   ]
  },
  {
   "cell_type": "markdown",
   "metadata": {},
   "source": [
    "We can manipulate expressions"
   ]
  },
  {
   "cell_type": "code",
   "execution_count": 4,
   "metadata": {},
   "outputs": [
    {
     "data": {
      "text/latex": [
       "$\\displaystyle x^{2} + 2 x y + y^{2}$"
      ],
      "text/plain": [
       "x**2 + 2*x*y + y**2"
      ]
     },
     "execution_count": 4,
     "metadata": {},
     "output_type": "execute_result"
    }
   ],
   "source": [
    "expression = (x + y)**2\n",
    "expression.expand()"
   ]
  },
  {
   "cell_type": "markdown",
   "metadata": {},
   "source": [
    "solve polynomials"
   ]
  },
  {
   "cell_type": "code",
   "execution_count": 5,
   "metadata": {},
   "outputs": [
    {
     "data": {
      "text/plain": [
       "[-1/2 - sqrt(7)*I/2, -1/2 + sqrt(7)*I/2]"
      ]
     },
     "execution_count": 5,
     "metadata": {},
     "output_type": "execute_result"
    }
   ],
   "source": [
    "from sympy import solve\n",
    "\n",
    "solve(x**2 + x + 2)"
   ]
  },
  {
   "cell_type": "markdown",
   "metadata": {},
   "source": [
    "and calculate limits, derivatives and integrals"
   ]
  },
  {
   "cell_type": "code",
   "execution_count": 6,
   "metadata": {},
   "outputs": [
    {
     "data": {
      "text/latex": [
       "$\\displaystyle \\infty$"
      ],
      "text/plain": [
       "oo"
      ]
     },
     "execution_count": 6,
     "metadata": {},
     "output_type": "execute_result"
    }
   ],
   "source": [
    "from sympy import limit, sin, diff\n",
    "\n",
    "limit(1 / x, x, 0)"
   ]
  },
  {
   "cell_type": "code",
   "execution_count": 7,
   "metadata": {},
   "outputs": [
    {
     "data": {
      "text/latex": [
       "$\\displaystyle 1$"
      ],
      "text/plain": [
       "1"
      ]
     },
     "execution_count": 7,
     "metadata": {},
     "output_type": "execute_result"
    }
   ],
   "source": [
    "limit(sin(x) / x, x, 0)"
   ]
  },
  {
   "cell_type": "code",
   "execution_count": 8,
   "metadata": {},
   "outputs": [
    {
     "data": {
      "text/latex": [
       "$\\displaystyle \\cos{\\left(x \\right)}$"
      ],
      "text/plain": [
       "cos(x)"
      ]
     },
     "execution_count": 8,
     "metadata": {},
     "output_type": "execute_result"
    }
   ],
   "source": [
    "diff(sin(x), x)"
   ]
  },
  {
   "cell_type": "markdown",
   "metadata": {},
   "source": [
    "The beauty of importing this functionality into Python is that we are working within\n",
    "a fully fledged programming language.\n",
    "\n",
    "We can easily create tables of derivatives, generate LaTeX output, add that output\n",
    "to figures and so on.\n",
    "\n",
    "### Statistics\n",
    "\n",
    "Python's data manipulation and statistics libraries have improved rapidly over the last few years.\n",
    "\n",
    "#### Pandas\n",
    "\n",
    "One of the most popular libraries for working with data is [pandas](http://pandas.pydata.org/).\n",
    "\n",
    "Pandas is fast, efficient, flexible and well designed.\n",
    "\n",
    "Here's a simple example, using some dummy data generated with Numpy's excellent `random` functionality."
   ]
  },
  {
   "cell_type": "code",
   "execution_count": 9,
   "metadata": {},
   "outputs": [
    {
     "name": "stdout",
     "output_type": "stream",
     "text": [
      "               price    weight\n",
      "2010-12-28  0.471435 -1.190976\n",
      "2010-12-29  1.432707 -0.312652\n",
      "2010-12-30 -0.720589  0.887163\n",
      "2010-12-31  0.859588 -0.636524\n",
      "2011-01-01  0.015696 -2.242685\n"
     ]
    },
    {
     "data": {
      "text/plain": [
       "price     0.411768\n",
       "weight   -0.699135\n",
       "dtype: float64"
      ]
     },
     "execution_count": 9,
     "metadata": {},
     "output_type": "execute_result"
    }
   ],
   "source": [
    "import pandas as pd\n",
    "np.random.seed(1234)\n",
    "\n",
    "data = np.random.randn(5, 2)  # 5x2 matrix of N(0, 1) random draws\n",
    "dates = pd.date_range('28/12/2010', periods=5)\n",
    "\n",
    "df = pd.DataFrame(data, columns=('price', 'weight'), index=dates)\n",
    "print(df)\n",
    "df.mean()"
   ]
  },
  {
   "cell_type": "markdown",
   "metadata": {},
   "source": [
    "#### Other Useful Statistics Libraries\n",
    "\n",
    "* [statsmodels](http://statsmodels.sourceforge.net/) --- various statistical routines\n",
    "\n",
    "* [scikit-learn](http://scikit-learn.org/) --- machine learning in Python (sponsored by Google, among others)\n",
    "\n",
    "### Parallel Processing\n",
    "\n",
    "Apart from the cloud computing options listed above, you might like to consider\n",
    "\n",
    "* [Parallel computing through IPython clusters](http://ipython.org/ipython-doc/stable/parallel/parallel_demos.html).\n",
    "\n",
    "* GPU programming through [PyCuda](https://wiki.tiker.net/PyCuda), [PyOpenCL](https://mathema.tician.de/software/pyopencl/), [Theano](https://en.wikipedia.org/wiki/Theano_(software)) or similar.\n",
    "\n",
    "### Other Developments\n",
    "\n",
    "There are many other interesting developments with scientific programming in Python.\n",
    "\n",
    "Some representative examples include:\n",
    "\n",
    "* [Jupyter](http://jupyter.org/) --- Python in your browser with interactive code cells,  embedded images and other useful features.\n",
    "\n",
    "* [Numba](http://numba.pydata.org/) --- Make Python run at the same speed as native machine code!\n",
    "\n",
    "* [Blaze](http://blaze.pydata.org/) --- a generalization of NumPy.\n",
    "\n",
    "* [PyTables](http://www.pytables.org) --- manage large data sets.\n",
    "\n",
    "## Learn More\n",
    "\n",
    "* Browse some Python projects on [GitHub](https://github.com/trending?l=python).\n",
    "* Read more about [Python's history and rise in popularity](https://www.welcometothejungle.com/en/articles/btc-python-popular) .\n",
    "* Have a look at [some of the Jupyter notebooks](http://nbviewer.jupyter.org/) people have shared on various scientific topics.\n",
    "\n",
    "* Visit the [Python Package Index](https://pypi.org/).\n",
    "* View some of the questions people are asking about Python on [Stackoverflow](http://stackoverflow.com/questions/tagged/python).\n",
    "* Keep up to date on what's happening in the Python community with the [Python subreddit](https://www.reddit.com:443/r/Python/)."
   ]
  }
 ],
 "metadata": {
  "kernelspec": {
   "display_name": "Python 3",
   "name": "python3"
  },
  "language_info": {
   "name": "python"
  }
 },
 "nbformat": 4,
 "nbformat_minor": 4
}