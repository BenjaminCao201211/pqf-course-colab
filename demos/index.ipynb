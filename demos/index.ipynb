{
 "cells": [
  {
   "cell_type": "markdown",
   "metadata": {},
   "source": [
    "# Demos\n",
    "\n",
    "| Date | Topic |\n",
    "|------|------|\n",
    "| 1/27 | [Join Github](d1_github.html)|\n",
    "| 1/28 | [Access Cloud9](d2_cloud9.html)|\n",
    "\n",
    ":begin_tab:toc\n",
    " - [d1_github](d1_github.ipynb)\n",
    " - [d2_cloud9](d2_cloud9.ipynb)\n",
    ":end_tab:\n"
   ]
  }
 ],
 "metadata": {
  "kernelspec": {
   "display_name": "Python 3",
   "name": "python3"
  },
  "language_info": {
   "name": "python"
  }
 },
 "nbformat": 4,
 "nbformat_minor": 4
}