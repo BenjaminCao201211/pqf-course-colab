{
 "cells": [
  {
   "cell_type": "markdown",
   "metadata": {},
   "source": [
    "# Programming for Quantitative Finance"
   ]
  },
  {
   "cell_type": "markdown",
   "metadata": {},
   "source": [
    ":begin_tab:toc\n",
    " - [sections/about_python](sections/about_python.ipynb)\n",
    " - [sections/first_examples](sections/first_examples.ipynb)\n",
    " - [sections/essentials](sections/essentials.ipynb)\n",
    " - [sections/functions](sections/functions.ipynb)\n",
    ":end_tab:\n"
   ]
  }
 ],
 "metadata": {
  "kernelspec": {
   "display_name": "Python 3",
   "name": "python3"
  },
  "language_info": {
   "name": "python"
  }
 },
 "nbformat": 4,
 "nbformat_minor": 4
}