{
 "cells": [
  {
   "cell_type": "markdown",
   "metadata": {
    "origin_pos": 0
   },
   "source": [
    "# Programming for Quantitative Finance\n",
    "\n",
    ":begin_tab:toc\n",
    " - [sections/about_python](sections/about_python.ipynb)\n",
    " - [sections/first_examples](sections/first_examples.ipynb)\n",
    " - [sections/essentials](sections/essentials.ipynb)\n",
    " - [sections/functions](sections/functions.ipynb)\n",
    ":end_tab:\n"
   ]
  }
 ],
 "metadata": {
  "kernelspec": {
   "display_name": "Python 3",
   "name": "python3"
  },
  "language_info": {
   "name": "python"
  }
 },
 "nbformat": 4,
 "nbformat_minor": 4
}